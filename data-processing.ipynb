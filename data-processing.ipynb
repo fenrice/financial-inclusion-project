{
 "cells": [
  {
   "cell_type": "code",
   "execution_count": 88,
   "metadata": {},
   "outputs": [],
   "source": [
    "import pandas as pd\n",
    "df = pd.read_excel('./data/finindex.xlsx', sheet_name='Data')"
   ]
  },
  {
   "cell_type": "code",
   "execution_count": 89,
   "metadata": {},
   "outputs": [
    {
     "data": {
      "text/html": [
       "<div>\n",
       "<style scoped>\n",
       "    .dataframe tbody tr th:only-of-type {\n",
       "        vertical-align: middle;\n",
       "    }\n",
       "\n",
       "    .dataframe tbody tr th {\n",
       "        vertical-align: top;\n",
       "    }\n",
       "\n",
       "    .dataframe thead th {\n",
       "        text-align: right;\n",
       "    }\n",
       "</style>\n",
       "<table border=\"1\" class=\"dataframe\">\n",
       "  <thead>\n",
       "    <tr style=\"text-align: right;\">\n",
       "      <th></th>\n",
       "      <th>Unnamed: 0</th>\n",
       "      <th>Unnamed: 1</th>\n",
       "      <th>Unnamed: 2</th>\n",
       "      <th>Unnamed: 3</th>\n",
       "      <th>Unnamed: 4</th>\n",
       "      <th>Account (% age 15+)</th>\n",
       "      <th>Account, male (% age 15+)</th>\n",
       "      <th>Account, in labor force (% age 15+)</th>\n",
       "      <th>Account, out of labor force (% age 15+)</th>\n",
       "      <th>Account, female (% age 15+)</th>\n",
       "      <th>...</th>\n",
       "      <th>Mobile money account, in labor force (% age 15+)</th>\n",
       "      <th>Mobile money account, out of labor force (% age 15+)</th>\n",
       "      <th>Mobile money account, female (% age 15+)</th>\n",
       "      <th>Mobile money account, young adults  (% age 15-24)</th>\n",
       "      <th>Mobile money account, older adults (% age 25+)</th>\n",
       "      <th>Mobile money account, primary education or less (% age 15+)</th>\n",
       "      <th>Mobile money account, secondary education or less (% age 15+)</th>\n",
       "      <th>Mobile money account, income, poorest 40% (% age 15+)</th>\n",
       "      <th>Mobile money account, income, richest 60%  (% age 15+)</th>\n",
       "      <th>Mobile money account, rural  (% age 15+)</th>\n",
       "    </tr>\n",
       "  </thead>\n",
       "  <tbody>\n",
       "    <tr>\n",
       "      <th>0</th>\n",
       "      <td>2011</td>\n",
       "      <td>AFG</td>\n",
       "      <td>Afghanistan</td>\n",
       "      <td>South Asia</td>\n",
       "      <td>Low income</td>\n",
       "      <td>0.090050</td>\n",
       "      <td>0.154155</td>\n",
       "      <td>0.149905</td>\n",
       "      <td>0.020520</td>\n",
       "      <td>0.026162</td>\n",
       "      <td>...</td>\n",
       "      <td>NaN</td>\n",
       "      <td>NaN</td>\n",
       "      <td>NaN</td>\n",
       "      <td>NaN</td>\n",
       "      <td>NaN</td>\n",
       "      <td>NaN</td>\n",
       "      <td>NaN</td>\n",
       "      <td>NaN</td>\n",
       "      <td>NaN</td>\n",
       "      <td>NaN</td>\n",
       "    </tr>\n",
       "    <tr>\n",
       "      <th>1</th>\n",
       "      <td>2014</td>\n",
       "      <td>AFG</td>\n",
       "      <td>Afghanistan</td>\n",
       "      <td>South Asia</td>\n",
       "      <td>Low income</td>\n",
       "      <td>0.099610</td>\n",
       "      <td>0.157847</td>\n",
       "      <td>0.148926</td>\n",
       "      <td>0.043583</td>\n",
       "      <td>0.038124</td>\n",
       "      <td>...</td>\n",
       "      <td>0.005723</td>\n",
       "      <td>0.000000</td>\n",
       "      <td>0.002061</td>\n",
       "      <td>0.00263</td>\n",
       "      <td>0.003299</td>\n",
       "      <td>0.002870</td>\n",
       "      <td>0.003472</td>\n",
       "      <td>0.000000</td>\n",
       "      <td>0.005072</td>\n",
       "      <td>0.002357</td>\n",
       "    </tr>\n",
       "    <tr>\n",
       "      <th>2</th>\n",
       "      <td>2017</td>\n",
       "      <td>AFG</td>\n",
       "      <td>Afghanistan</td>\n",
       "      <td>South Asia</td>\n",
       "      <td>Low income</td>\n",
       "      <td>0.148933</td>\n",
       "      <td>0.225365</td>\n",
       "      <td>0.250383</td>\n",
       "      <td>0.040462</td>\n",
       "      <td>0.071607</td>\n",
       "      <td>...</td>\n",
       "      <td>0.017173</td>\n",
       "      <td>0.000548</td>\n",
       "      <td>0.008798</td>\n",
       "      <td>0.00000</td>\n",
       "      <td>0.014690</td>\n",
       "      <td>0.003958</td>\n",
       "      <td>0.022650</td>\n",
       "      <td>0.003607</td>\n",
       "      <td>0.012820</td>\n",
       "      <td>0.008522</td>\n",
       "    </tr>\n",
       "    <tr>\n",
       "      <th>3</th>\n",
       "      <td>2011</td>\n",
       "      <td>AGO</td>\n",
       "      <td>Angola</td>\n",
       "      <td>Sub-Saharan Africa (excluding high income)</td>\n",
       "      <td>Lower middle income</td>\n",
       "      <td>0.392035</td>\n",
       "      <td>0.394810</td>\n",
       "      <td>0.458098</td>\n",
       "      <td>0.308698</td>\n",
       "      <td>0.389283</td>\n",
       "      <td>...</td>\n",
       "      <td>NaN</td>\n",
       "      <td>NaN</td>\n",
       "      <td>NaN</td>\n",
       "      <td>NaN</td>\n",
       "      <td>NaN</td>\n",
       "      <td>NaN</td>\n",
       "      <td>NaN</td>\n",
       "      <td>NaN</td>\n",
       "      <td>NaN</td>\n",
       "      <td>NaN</td>\n",
       "    </tr>\n",
       "    <tr>\n",
       "      <th>4</th>\n",
       "      <td>2014</td>\n",
       "      <td>AGO</td>\n",
       "      <td>Angola</td>\n",
       "      <td>Sub-Saharan Africa (excluding high income)</td>\n",
       "      <td>Lower middle income</td>\n",
       "      <td>0.293181</td>\n",
       "      <td>0.361321</td>\n",
       "      <td>0.358846</td>\n",
       "      <td>0.116862</td>\n",
       "      <td>0.223316</td>\n",
       "      <td>...</td>\n",
       "      <td>NaN</td>\n",
       "      <td>NaN</td>\n",
       "      <td>NaN</td>\n",
       "      <td>NaN</td>\n",
       "      <td>NaN</td>\n",
       "      <td>NaN</td>\n",
       "      <td>NaN</td>\n",
       "      <td>NaN</td>\n",
       "      <td>NaN</td>\n",
       "      <td>NaN</td>\n",
       "    </tr>\n",
       "  </tbody>\n",
       "</table>\n",
       "<p>5 rows × 781 columns</p>\n",
       "</div>"
      ],
      "text/plain": [
       "   Unnamed: 0 Unnamed: 1   Unnamed: 2  \\\n",
       "0        2011        AFG  Afghanistan   \n",
       "1        2014        AFG  Afghanistan   \n",
       "2        2017        AFG  Afghanistan   \n",
       "3        2011        AGO       Angola   \n",
       "4        2014        AGO       Angola   \n",
       "\n",
       "                                   Unnamed: 3           Unnamed: 4  \\\n",
       "0                                  South Asia           Low income   \n",
       "1                                  South Asia           Low income   \n",
       "2                                  South Asia           Low income   \n",
       "3  Sub-Saharan Africa (excluding high income)  Lower middle income   \n",
       "4  Sub-Saharan Africa (excluding high income)  Lower middle income   \n",
       "\n",
       "   Account (% age 15+)  Account, male (% age 15+)  \\\n",
       "0             0.090050                   0.154155   \n",
       "1             0.099610                   0.157847   \n",
       "2             0.148933                   0.225365   \n",
       "3             0.392035                   0.394810   \n",
       "4             0.293181                   0.361321   \n",
       "\n",
       "   Account, in labor force (% age 15+)   \\\n",
       "0                              0.149905   \n",
       "1                              0.148926   \n",
       "2                              0.250383   \n",
       "3                              0.458098   \n",
       "4                              0.358846   \n",
       "\n",
       "   Account, out of labor force (% age 15+)   Account, female (% age 15+)  ...  \\\n",
       "0                                  0.020520                     0.026162  ...   \n",
       "1                                  0.043583                     0.038124  ...   \n",
       "2                                  0.040462                     0.071607  ...   \n",
       "3                                  0.308698                     0.389283  ...   \n",
       "4                                  0.116862                     0.223316  ...   \n",
       "\n",
       "   Mobile money account, in labor force (% age 15+)   \\\n",
       "0                                                NaN   \n",
       "1                                           0.005723   \n",
       "2                                           0.017173   \n",
       "3                                                NaN   \n",
       "4                                                NaN   \n",
       "\n",
       "   Mobile money account, out of labor force (% age 15+)   \\\n",
       "0                                                NaN       \n",
       "1                                           0.000000       \n",
       "2                                           0.000548       \n",
       "3                                                NaN       \n",
       "4                                                NaN       \n",
       "\n",
       "   Mobile money account, female (% age 15+)   \\\n",
       "0                                        NaN   \n",
       "1                                   0.002061   \n",
       "2                                   0.008798   \n",
       "3                                        NaN   \n",
       "4                                        NaN   \n",
       "\n",
       "   Mobile money account, young adults  (% age 15-24)   \\\n",
       "0                                                NaN    \n",
       "1                                            0.00263    \n",
       "2                                            0.00000    \n",
       "3                                                NaN    \n",
       "4                                                NaN    \n",
       "\n",
       "   Mobile money account, older adults (% age 25+)   \\\n",
       "0                                              NaN   \n",
       "1                                         0.003299   \n",
       "2                                         0.014690   \n",
       "3                                              NaN   \n",
       "4                                              NaN   \n",
       "\n",
       "   Mobile money account, primary education or less (% age 15+)   \\\n",
       "0                                                NaN              \n",
       "1                                           0.002870              \n",
       "2                                           0.003958              \n",
       "3                                                NaN              \n",
       "4                                                NaN              \n",
       "\n",
       "   Mobile money account, secondary education or less (% age 15+)   \\\n",
       "0                                                NaN                \n",
       "1                                           0.003472                \n",
       "2                                           0.022650                \n",
       "3                                                NaN                \n",
       "4                                                NaN                \n",
       "\n",
       "   Mobile money account, income, poorest 40% (% age 15+)   \\\n",
       "0                                                NaN        \n",
       "1                                           0.000000        \n",
       "2                                           0.003607        \n",
       "3                                                NaN        \n",
       "4                                                NaN        \n",
       "\n",
       "   Mobile money account, income, richest 60%  (% age 15+)   \\\n",
       "0                                                NaN         \n",
       "1                                           0.005072         \n",
       "2                                           0.012820         \n",
       "3                                                NaN         \n",
       "4                                                NaN         \n",
       "\n",
       "   Mobile money account, rural  (% age 15+)   \n",
       "0                                        NaN  \n",
       "1                                   0.002357  \n",
       "2                                   0.008522  \n",
       "3                                        NaN  \n",
       "4                                        NaN  \n",
       "\n",
       "[5 rows x 781 columns]"
      ]
     },
     "execution_count": 89,
     "metadata": {},
     "output_type": "execute_result"
    }
   ],
   "source": [
    "df.head()"
   ]
  },
  {
   "cell_type": "code",
   "execution_count": 90,
   "metadata": {},
   "outputs": [],
   "source": [
    "df = df.rename(columns={'Unnamed: 0': 'year', 'Unnamed: 1':'abbreviation', 'Unnamed: 2': 'country', 'Unnamed: 3':'region', 'Unnamed: 4':'income_level'})"
   ]
  },
  {
   "cell_type": "code",
   "execution_count": 91,
   "metadata": {},
   "outputs": [
    {
     "data": {
      "text/html": [
       "<div>\n",
       "<style scoped>\n",
       "    .dataframe tbody tr th:only-of-type {\n",
       "        vertical-align: middle;\n",
       "    }\n",
       "\n",
       "    .dataframe tbody tr th {\n",
       "        vertical-align: top;\n",
       "    }\n",
       "\n",
       "    .dataframe thead th {\n",
       "        text-align: right;\n",
       "    }\n",
       "</style>\n",
       "<table border=\"1\" class=\"dataframe\">\n",
       "  <thead>\n",
       "    <tr style=\"text-align: right;\">\n",
       "      <th></th>\n",
       "      <th>year</th>\n",
       "      <th>abbreviation</th>\n",
       "      <th>country</th>\n",
       "      <th>region</th>\n",
       "      <th>income_level</th>\n",
       "      <th>Account (% age 15+)</th>\n",
       "      <th>Account, male (% age 15+)</th>\n",
       "      <th>Account, in labor force (% age 15+)</th>\n",
       "      <th>Account, out of labor force (% age 15+)</th>\n",
       "      <th>Account, female (% age 15+)</th>\n",
       "      <th>...</th>\n",
       "      <th>Mobile money account, in labor force (% age 15+)</th>\n",
       "      <th>Mobile money account, out of labor force (% age 15+)</th>\n",
       "      <th>Mobile money account, female (% age 15+)</th>\n",
       "      <th>Mobile money account, young adults  (% age 15-24)</th>\n",
       "      <th>Mobile money account, older adults (% age 25+)</th>\n",
       "      <th>Mobile money account, primary education or less (% age 15+)</th>\n",
       "      <th>Mobile money account, secondary education or less (% age 15+)</th>\n",
       "      <th>Mobile money account, income, poorest 40% (% age 15+)</th>\n",
       "      <th>Mobile money account, income, richest 60%  (% age 15+)</th>\n",
       "      <th>Mobile money account, rural  (% age 15+)</th>\n",
       "    </tr>\n",
       "  </thead>\n",
       "  <tbody>\n",
       "    <tr>\n",
       "      <th>0</th>\n",
       "      <td>2011</td>\n",
       "      <td>AFG</td>\n",
       "      <td>Afghanistan</td>\n",
       "      <td>South Asia</td>\n",
       "      <td>Low income</td>\n",
       "      <td>0.090050</td>\n",
       "      <td>0.154155</td>\n",
       "      <td>0.149905</td>\n",
       "      <td>0.020520</td>\n",
       "      <td>0.026162</td>\n",
       "      <td>...</td>\n",
       "      <td>NaN</td>\n",
       "      <td>NaN</td>\n",
       "      <td>NaN</td>\n",
       "      <td>NaN</td>\n",
       "      <td>NaN</td>\n",
       "      <td>NaN</td>\n",
       "      <td>NaN</td>\n",
       "      <td>NaN</td>\n",
       "      <td>NaN</td>\n",
       "      <td>NaN</td>\n",
       "    </tr>\n",
       "    <tr>\n",
       "      <th>1</th>\n",
       "      <td>2014</td>\n",
       "      <td>AFG</td>\n",
       "      <td>Afghanistan</td>\n",
       "      <td>South Asia</td>\n",
       "      <td>Low income</td>\n",
       "      <td>0.099610</td>\n",
       "      <td>0.157847</td>\n",
       "      <td>0.148926</td>\n",
       "      <td>0.043583</td>\n",
       "      <td>0.038124</td>\n",
       "      <td>...</td>\n",
       "      <td>0.005723</td>\n",
       "      <td>0.000000</td>\n",
       "      <td>0.002061</td>\n",
       "      <td>0.00263</td>\n",
       "      <td>0.003299</td>\n",
       "      <td>0.002870</td>\n",
       "      <td>0.003472</td>\n",
       "      <td>0.000000</td>\n",
       "      <td>0.005072</td>\n",
       "      <td>0.002357</td>\n",
       "    </tr>\n",
       "    <tr>\n",
       "      <th>2</th>\n",
       "      <td>2017</td>\n",
       "      <td>AFG</td>\n",
       "      <td>Afghanistan</td>\n",
       "      <td>South Asia</td>\n",
       "      <td>Low income</td>\n",
       "      <td>0.148933</td>\n",
       "      <td>0.225365</td>\n",
       "      <td>0.250383</td>\n",
       "      <td>0.040462</td>\n",
       "      <td>0.071607</td>\n",
       "      <td>...</td>\n",
       "      <td>0.017173</td>\n",
       "      <td>0.000548</td>\n",
       "      <td>0.008798</td>\n",
       "      <td>0.00000</td>\n",
       "      <td>0.014690</td>\n",
       "      <td>0.003958</td>\n",
       "      <td>0.022650</td>\n",
       "      <td>0.003607</td>\n",
       "      <td>0.012820</td>\n",
       "      <td>0.008522</td>\n",
       "    </tr>\n",
       "    <tr>\n",
       "      <th>3</th>\n",
       "      <td>2011</td>\n",
       "      <td>AGO</td>\n",
       "      <td>Angola</td>\n",
       "      <td>Sub-Saharan Africa (excluding high income)</td>\n",
       "      <td>Lower middle income</td>\n",
       "      <td>0.392035</td>\n",
       "      <td>0.394810</td>\n",
       "      <td>0.458098</td>\n",
       "      <td>0.308698</td>\n",
       "      <td>0.389283</td>\n",
       "      <td>...</td>\n",
       "      <td>NaN</td>\n",
       "      <td>NaN</td>\n",
       "      <td>NaN</td>\n",
       "      <td>NaN</td>\n",
       "      <td>NaN</td>\n",
       "      <td>NaN</td>\n",
       "      <td>NaN</td>\n",
       "      <td>NaN</td>\n",
       "      <td>NaN</td>\n",
       "      <td>NaN</td>\n",
       "    </tr>\n",
       "    <tr>\n",
       "      <th>4</th>\n",
       "      <td>2014</td>\n",
       "      <td>AGO</td>\n",
       "      <td>Angola</td>\n",
       "      <td>Sub-Saharan Africa (excluding high income)</td>\n",
       "      <td>Lower middle income</td>\n",
       "      <td>0.293181</td>\n",
       "      <td>0.361321</td>\n",
       "      <td>0.358846</td>\n",
       "      <td>0.116862</td>\n",
       "      <td>0.223316</td>\n",
       "      <td>...</td>\n",
       "      <td>NaN</td>\n",
       "      <td>NaN</td>\n",
       "      <td>NaN</td>\n",
       "      <td>NaN</td>\n",
       "      <td>NaN</td>\n",
       "      <td>NaN</td>\n",
       "      <td>NaN</td>\n",
       "      <td>NaN</td>\n",
       "      <td>NaN</td>\n",
       "      <td>NaN</td>\n",
       "    </tr>\n",
       "  </tbody>\n",
       "</table>\n",
       "<p>5 rows × 781 columns</p>\n",
       "</div>"
      ],
      "text/plain": [
       "   year abbreviation      country                                      region  \\\n",
       "0  2011          AFG  Afghanistan                                  South Asia   \n",
       "1  2014          AFG  Afghanistan                                  South Asia   \n",
       "2  2017          AFG  Afghanistan                                  South Asia   \n",
       "3  2011          AGO       Angola  Sub-Saharan Africa (excluding high income)   \n",
       "4  2014          AGO       Angola  Sub-Saharan Africa (excluding high income)   \n",
       "\n",
       "          income_level  Account (% age 15+)  Account, male (% age 15+)  \\\n",
       "0           Low income             0.090050                   0.154155   \n",
       "1           Low income             0.099610                   0.157847   \n",
       "2           Low income             0.148933                   0.225365   \n",
       "3  Lower middle income             0.392035                   0.394810   \n",
       "4  Lower middle income             0.293181                   0.361321   \n",
       "\n",
       "   Account, in labor force (% age 15+)   \\\n",
       "0                              0.149905   \n",
       "1                              0.148926   \n",
       "2                              0.250383   \n",
       "3                              0.458098   \n",
       "4                              0.358846   \n",
       "\n",
       "   Account, out of labor force (% age 15+)   Account, female (% age 15+)  ...  \\\n",
       "0                                  0.020520                     0.026162  ...   \n",
       "1                                  0.043583                     0.038124  ...   \n",
       "2                                  0.040462                     0.071607  ...   \n",
       "3                                  0.308698                     0.389283  ...   \n",
       "4                                  0.116862                     0.223316  ...   \n",
       "\n",
       "   Mobile money account, in labor force (% age 15+)   \\\n",
       "0                                                NaN   \n",
       "1                                           0.005723   \n",
       "2                                           0.017173   \n",
       "3                                                NaN   \n",
       "4                                                NaN   \n",
       "\n",
       "   Mobile money account, out of labor force (% age 15+)   \\\n",
       "0                                                NaN       \n",
       "1                                           0.000000       \n",
       "2                                           0.000548       \n",
       "3                                                NaN       \n",
       "4                                                NaN       \n",
       "\n",
       "   Mobile money account, female (% age 15+)   \\\n",
       "0                                        NaN   \n",
       "1                                   0.002061   \n",
       "2                                   0.008798   \n",
       "3                                        NaN   \n",
       "4                                        NaN   \n",
       "\n",
       "   Mobile money account, young adults  (% age 15-24)   \\\n",
       "0                                                NaN    \n",
       "1                                            0.00263    \n",
       "2                                            0.00000    \n",
       "3                                                NaN    \n",
       "4                                                NaN    \n",
       "\n",
       "   Mobile money account, older adults (% age 25+)   \\\n",
       "0                                              NaN   \n",
       "1                                         0.003299   \n",
       "2                                         0.014690   \n",
       "3                                              NaN   \n",
       "4                                              NaN   \n",
       "\n",
       "   Mobile money account, primary education or less (% age 15+)   \\\n",
       "0                                                NaN              \n",
       "1                                           0.002870              \n",
       "2                                           0.003958              \n",
       "3                                                NaN              \n",
       "4                                                NaN              \n",
       "\n",
       "   Mobile money account, secondary education or less (% age 15+)   \\\n",
       "0                                                NaN                \n",
       "1                                           0.003472                \n",
       "2                                           0.022650                \n",
       "3                                                NaN                \n",
       "4                                                NaN                \n",
       "\n",
       "   Mobile money account, income, poorest 40% (% age 15+)   \\\n",
       "0                                                NaN        \n",
       "1                                           0.000000        \n",
       "2                                           0.003607        \n",
       "3                                                NaN        \n",
       "4                                                NaN        \n",
       "\n",
       "   Mobile money account, income, richest 60%  (% age 15+)   \\\n",
       "0                                                NaN         \n",
       "1                                           0.005072         \n",
       "2                                           0.012820         \n",
       "3                                                NaN         \n",
       "4                                                NaN         \n",
       "\n",
       "   Mobile money account, rural  (% age 15+)   \n",
       "0                                        NaN  \n",
       "1                                   0.002357  \n",
       "2                                   0.008522  \n",
       "3                                        NaN  \n",
       "4                                        NaN  \n",
       "\n",
       "[5 rows x 781 columns]"
      ]
     },
     "execution_count": 91,
     "metadata": {},
     "output_type": "execute_result"
    }
   ],
   "source": [
    "df.head()"
   ]
  },
  {
   "cell_type": "code",
   "execution_count": 92,
   "metadata": {},
   "outputs": [],
   "source": [
    "df_bots = df[df.country == 'Botswana']"
   ]
  },
  {
   "cell_type": "code",
   "execution_count": 93,
   "metadata": {},
   "outputs": [
    {
     "data": {
      "text/html": [
       "<div>\n",
       "<style scoped>\n",
       "    .dataframe tbody tr th:only-of-type {\n",
       "        vertical-align: middle;\n",
       "    }\n",
       "\n",
       "    .dataframe tbody tr th {\n",
       "        vertical-align: top;\n",
       "    }\n",
       "\n",
       "    .dataframe thead th {\n",
       "        text-align: right;\n",
       "    }\n",
       "</style>\n",
       "<table border=\"1\" class=\"dataframe\">\n",
       "  <thead>\n",
       "    <tr style=\"text-align: right;\">\n",
       "      <th></th>\n",
       "      <th>year</th>\n",
       "      <th>abbreviation</th>\n",
       "      <th>country</th>\n",
       "      <th>region</th>\n",
       "      <th>income_level</th>\n",
       "      <th>Account (% age 15+)</th>\n",
       "      <th>Account, male (% age 15+)</th>\n",
       "      <th>Account, in labor force (% age 15+)</th>\n",
       "      <th>Account, out of labor force (% age 15+)</th>\n",
       "      <th>Account, female (% age 15+)</th>\n",
       "      <th>...</th>\n",
       "      <th>Mobile money account, in labor force (% age 15+)</th>\n",
       "      <th>Mobile money account, out of labor force (% age 15+)</th>\n",
       "      <th>Mobile money account, female (% age 15+)</th>\n",
       "      <th>Mobile money account, young adults  (% age 15-24)</th>\n",
       "      <th>Mobile money account, older adults (% age 25+)</th>\n",
       "      <th>Mobile money account, primary education or less (% age 15+)</th>\n",
       "      <th>Mobile money account, secondary education or less (% age 15+)</th>\n",
       "      <th>Mobile money account, income, poorest 40% (% age 15+)</th>\n",
       "      <th>Mobile money account, income, richest 60%  (% age 15+)</th>\n",
       "      <th>Mobile money account, rural  (% age 15+)</th>\n",
       "    </tr>\n",
       "  </thead>\n",
       "  <tbody>\n",
       "    <tr>\n",
       "      <th>63</th>\n",
       "      <td>2011</td>\n",
       "      <td>BWA</td>\n",
       "      <td>Botswana</td>\n",
       "      <td>Sub-Saharan Africa (excluding high income)</td>\n",
       "      <td>Upper middle income</td>\n",
       "      <td>0.302600</td>\n",
       "      <td>0.321595</td>\n",
       "      <td>0.406803</td>\n",
       "      <td>0.165013</td>\n",
       "      <td>0.283603</td>\n",
       "      <td>...</td>\n",
       "      <td>NaN</td>\n",
       "      <td>NaN</td>\n",
       "      <td>NaN</td>\n",
       "      <td>NaN</td>\n",
       "      <td>NaN</td>\n",
       "      <td>NaN</td>\n",
       "      <td>NaN</td>\n",
       "      <td>NaN</td>\n",
       "      <td>NaN</td>\n",
       "      <td>NaN</td>\n",
       "    </tr>\n",
       "    <tr>\n",
       "      <th>64</th>\n",
       "      <td>2014</td>\n",
       "      <td>BWA</td>\n",
       "      <td>Botswana</td>\n",
       "      <td>Sub-Saharan Africa (excluding high income)</td>\n",
       "      <td>Upper middle income</td>\n",
       "      <td>0.519646</td>\n",
       "      <td>0.552345</td>\n",
       "      <td>0.588054</td>\n",
       "      <td>0.382174</td>\n",
       "      <td>0.487371</td>\n",
       "      <td>...</td>\n",
       "      <td>0.248332</td>\n",
       "      <td>0.125492</td>\n",
       "      <td>0.194573</td>\n",
       "      <td>0.227416</td>\n",
       "      <td>0.199192</td>\n",
       "      <td>0.045315</td>\n",
       "      <td>0.286034</td>\n",
       "      <td>0.072423</td>\n",
       "      <td>0.296708</td>\n",
       "      <td>0.213353</td>\n",
       "    </tr>\n",
       "    <tr>\n",
       "      <th>65</th>\n",
       "      <td>2017</td>\n",
       "      <td>BWA</td>\n",
       "      <td>Botswana</td>\n",
       "      <td>Sub-Saharan Africa (excluding high income)</td>\n",
       "      <td>Upper middle income</td>\n",
       "      <td>0.510325</td>\n",
       "      <td>0.562102</td>\n",
       "      <td>0.630660</td>\n",
       "      <td>0.364723</td>\n",
       "      <td>0.467885</td>\n",
       "      <td>...</td>\n",
       "      <td>0.338675</td>\n",
       "      <td>0.128968</td>\n",
       "      <td>0.205061</td>\n",
       "      <td>0.275184</td>\n",
       "      <td>0.230537</td>\n",
       "      <td>0.093519</td>\n",
       "      <td>0.359300</td>\n",
       "      <td>0.124832</td>\n",
       "      <td>0.322697</td>\n",
       "      <td>0.221527</td>\n",
       "    </tr>\n",
       "  </tbody>\n",
       "</table>\n",
       "<p>3 rows × 781 columns</p>\n",
       "</div>"
      ],
      "text/plain": [
       "    year abbreviation   country                                      region  \\\n",
       "63  2011          BWA  Botswana  Sub-Saharan Africa (excluding high income)   \n",
       "64  2014          BWA  Botswana  Sub-Saharan Africa (excluding high income)   \n",
       "65  2017          BWA  Botswana  Sub-Saharan Africa (excluding high income)   \n",
       "\n",
       "           income_level  Account (% age 15+)  Account, male (% age 15+)  \\\n",
       "63  Upper middle income             0.302600                   0.321595   \n",
       "64  Upper middle income             0.519646                   0.552345   \n",
       "65  Upper middle income             0.510325                   0.562102   \n",
       "\n",
       "    Account, in labor force (% age 15+)   \\\n",
       "63                              0.406803   \n",
       "64                              0.588054   \n",
       "65                              0.630660   \n",
       "\n",
       "    Account, out of labor force (% age 15+)   Account, female (% age 15+)  \\\n",
       "63                                  0.165013                     0.283603   \n",
       "64                                  0.382174                     0.487371   \n",
       "65                                  0.364723                     0.467885   \n",
       "\n",
       "    ...  Mobile money account, in labor force (% age 15+)   \\\n",
       "63  ...                                                NaN   \n",
       "64  ...                                           0.248332   \n",
       "65  ...                                           0.338675   \n",
       "\n",
       "    Mobile money account, out of labor force (% age 15+)   \\\n",
       "63                                                NaN       \n",
       "64                                           0.125492       \n",
       "65                                           0.128968       \n",
       "\n",
       "    Mobile money account, female (% age 15+)   \\\n",
       "63                                        NaN   \n",
       "64                                   0.194573   \n",
       "65                                   0.205061   \n",
       "\n",
       "    Mobile money account, young adults  (% age 15-24)   \\\n",
       "63                                                NaN    \n",
       "64                                           0.227416    \n",
       "65                                           0.275184    \n",
       "\n",
       "    Mobile money account, older adults (% age 25+)   \\\n",
       "63                                              NaN   \n",
       "64                                         0.199192   \n",
       "65                                         0.230537   \n",
       "\n",
       "    Mobile money account, primary education or less (% age 15+)   \\\n",
       "63                                                NaN              \n",
       "64                                           0.045315              \n",
       "65                                           0.093519              \n",
       "\n",
       "    Mobile money account, secondary education or less (% age 15+)   \\\n",
       "63                                                NaN                \n",
       "64                                           0.286034                \n",
       "65                                           0.359300                \n",
       "\n",
       "    Mobile money account, income, poorest 40% (% age 15+)   \\\n",
       "63                                                NaN        \n",
       "64                                           0.072423        \n",
       "65                                           0.124832        \n",
       "\n",
       "    Mobile money account, income, richest 60%  (% age 15+)   \\\n",
       "63                                                NaN         \n",
       "64                                           0.296708         \n",
       "65                                           0.322697         \n",
       "\n",
       "    Mobile money account, rural  (% age 15+)   \n",
       "63                                        NaN  \n",
       "64                                   0.213353  \n",
       "65                                   0.221527  \n",
       "\n",
       "[3 rows x 781 columns]"
      ]
     },
     "execution_count": 93,
     "metadata": {},
     "output_type": "execute_result"
    }
   ],
   "source": [
    "df_bots"
   ]
  },
  {
   "cell_type": "code",
   "execution_count": 94,
   "metadata": {},
   "outputs": [
    {
     "name": "stdout",
     "output_type": "stream",
     "text": [
      "<class 'pandas.core.frame.DataFrame'>\n",
      "Int64Index: 3 entries, 63 to 65\n",
      "Columns: 781 entries, year to Mobile money account, rural  (% age 15+) \n",
      "dtypes: float64(776), int64(1), object(4)\n",
      "memory usage: 18.3+ KB\n"
     ]
    }
   ],
   "source": [
    "df_bots.info()"
   ]
  },
  {
   "cell_type": "code",
   "execution_count": 95,
   "metadata": {},
   "outputs": [],
   "source": [
    "#since we dealing with Botswana for now, drop identifying columns as they arent as important\n",
    "df = df_bots.drop(columns = {'abbreviation', 'country', 'region', 'income_level'})"
   ]
  },
  {
   "cell_type": "code",
   "execution_count": 96,
   "metadata": {},
   "outputs": [],
   "source": [
    "df.set_index('year', inplace=True)"
   ]
  },
  {
   "cell_type": "code",
   "execution_count": 97,
   "metadata": {},
   "outputs": [
    {
     "data": {
      "text/html": [
       "<div>\n",
       "<style scoped>\n",
       "    .dataframe tbody tr th:only-of-type {\n",
       "        vertical-align: middle;\n",
       "    }\n",
       "\n",
       "    .dataframe tbody tr th {\n",
       "        vertical-align: top;\n",
       "    }\n",
       "\n",
       "    .dataframe thead th {\n",
       "        text-align: right;\n",
       "    }\n",
       "</style>\n",
       "<table border=\"1\" class=\"dataframe\">\n",
       "  <thead>\n",
       "    <tr style=\"text-align: right;\">\n",
       "      <th></th>\n",
       "      <th>Account (% age 15+)</th>\n",
       "      <th>Account, male (% age 15+)</th>\n",
       "      <th>Account, in labor force (% age 15+)</th>\n",
       "      <th>Account, out of labor force (% age 15+)</th>\n",
       "      <th>Account, female (% age 15+)</th>\n",
       "      <th>Account, young adults (% ages 15-24)</th>\n",
       "      <th>Account, older adults (% ages 25+)</th>\n",
       "      <th>Account, primary education or less (% ages 15+)</th>\n",
       "      <th>Account, secondary education or more (% ages 15+)</th>\n",
       "      <th>Account, income, poorest 40% (% ages 15+)</th>\n",
       "      <th>...</th>\n",
       "      <th>Mobile money account, in labor force (% age 15+)</th>\n",
       "      <th>Mobile money account, out of labor force (% age 15+)</th>\n",
       "      <th>Mobile money account, female (% age 15+)</th>\n",
       "      <th>Mobile money account, young adults  (% age 15-24)</th>\n",
       "      <th>Mobile money account, older adults (% age 25+)</th>\n",
       "      <th>Mobile money account, primary education or less (% age 15+)</th>\n",
       "      <th>Mobile money account, secondary education or less (% age 15+)</th>\n",
       "      <th>Mobile money account, income, poorest 40% (% age 15+)</th>\n",
       "      <th>Mobile money account, income, richest 60%  (% age 15+)</th>\n",
       "      <th>Mobile money account, rural  (% age 15+)</th>\n",
       "    </tr>\n",
       "    <tr>\n",
       "      <th>year</th>\n",
       "      <th></th>\n",
       "      <th></th>\n",
       "      <th></th>\n",
       "      <th></th>\n",
       "      <th></th>\n",
       "      <th></th>\n",
       "      <th></th>\n",
       "      <th></th>\n",
       "      <th></th>\n",
       "      <th></th>\n",
       "      <th></th>\n",
       "      <th></th>\n",
       "      <th></th>\n",
       "      <th></th>\n",
       "      <th></th>\n",
       "      <th></th>\n",
       "      <th></th>\n",
       "      <th></th>\n",
       "      <th></th>\n",
       "      <th></th>\n",
       "      <th></th>\n",
       "    </tr>\n",
       "  </thead>\n",
       "  <tbody>\n",
       "    <tr>\n",
       "      <th>2011</th>\n",
       "      <td>0.302600</td>\n",
       "      <td>0.321595</td>\n",
       "      <td>0.406803</td>\n",
       "      <td>0.165013</td>\n",
       "      <td>0.283603</td>\n",
       "      <td>0.203047</td>\n",
       "      <td>0.352055</td>\n",
       "      <td>0.184952</td>\n",
       "      <td>0.391095</td>\n",
       "      <td>0.142189</td>\n",
       "      <td>...</td>\n",
       "      <td>NaN</td>\n",
       "      <td>NaN</td>\n",
       "      <td>NaN</td>\n",
       "      <td>NaN</td>\n",
       "      <td>NaN</td>\n",
       "      <td>NaN</td>\n",
       "      <td>NaN</td>\n",
       "      <td>NaN</td>\n",
       "      <td>NaN</td>\n",
       "      <td>NaN</td>\n",
       "    </tr>\n",
       "    <tr>\n",
       "      <th>2014</th>\n",
       "      <td>0.519646</td>\n",
       "      <td>0.552345</td>\n",
       "      <td>0.588054</td>\n",
       "      <td>0.382174</td>\n",
       "      <td>0.487371</td>\n",
       "      <td>0.477309</td>\n",
       "      <td>0.539437</td>\n",
       "      <td>0.314991</td>\n",
       "      <td>0.617250</td>\n",
       "      <td>0.319689</td>\n",
       "      <td>...</td>\n",
       "      <td>0.248332</td>\n",
       "      <td>0.125492</td>\n",
       "      <td>0.194573</td>\n",
       "      <td>0.227416</td>\n",
       "      <td>0.199192</td>\n",
       "      <td>0.045315</td>\n",
       "      <td>0.286034</td>\n",
       "      <td>0.072423</td>\n",
       "      <td>0.296708</td>\n",
       "      <td>0.213353</td>\n",
       "    </tr>\n",
       "    <tr>\n",
       "      <th>2017</th>\n",
       "      <td>0.510325</td>\n",
       "      <td>0.562102</td>\n",
       "      <td>0.630660</td>\n",
       "      <td>0.364723</td>\n",
       "      <td>0.467885</td>\n",
       "      <td>0.469702</td>\n",
       "      <td>0.527081</td>\n",
       "      <td>0.389953</td>\n",
       "      <td>0.598837</td>\n",
       "      <td>0.346667</td>\n",
       "      <td>...</td>\n",
       "      <td>0.338675</td>\n",
       "      <td>0.128968</td>\n",
       "      <td>0.205061</td>\n",
       "      <td>0.275184</td>\n",
       "      <td>0.230537</td>\n",
       "      <td>0.093519</td>\n",
       "      <td>0.359300</td>\n",
       "      <td>0.124832</td>\n",
       "      <td>0.322697</td>\n",
       "      <td>0.221527</td>\n",
       "    </tr>\n",
       "  </tbody>\n",
       "</table>\n",
       "<p>3 rows × 776 columns</p>\n",
       "</div>"
      ],
      "text/plain": [
       "      Account (% age 15+)  Account, male (% age 15+)  \\\n",
       "year                                                   \n",
       "2011             0.302600                   0.321595   \n",
       "2014             0.519646                   0.552345   \n",
       "2017             0.510325                   0.562102   \n",
       "\n",
       "      Account, in labor force (% age 15+)   \\\n",
       "year                                         \n",
       "2011                              0.406803   \n",
       "2014                              0.588054   \n",
       "2017                              0.630660   \n",
       "\n",
       "      Account, out of labor force (% age 15+)   Account, female (% age 15+)  \\\n",
       "year                                                                          \n",
       "2011                                  0.165013                     0.283603   \n",
       "2014                                  0.382174                     0.487371   \n",
       "2017                                  0.364723                     0.467885   \n",
       "\n",
       "      Account, young adults (% ages 15-24)  \\\n",
       "year                                         \n",
       "2011                              0.203047   \n",
       "2014                              0.477309   \n",
       "2017                              0.469702   \n",
       "\n",
       "      Account, older adults (% ages 25+)  \\\n",
       "year                                       \n",
       "2011                            0.352055   \n",
       "2014                            0.539437   \n",
       "2017                            0.527081   \n",
       "\n",
       "      Account, primary education or less (% ages 15+)   \\\n",
       "year                                                     \n",
       "2011                                          0.184952   \n",
       "2014                                          0.314991   \n",
       "2017                                          0.389953   \n",
       "\n",
       "      Account, secondary education or more (% ages 15+)   \\\n",
       "year                                                       \n",
       "2011                                           0.391095    \n",
       "2014                                           0.617250    \n",
       "2017                                           0.598837    \n",
       "\n",
       "      Account, income, poorest 40% (% ages 15+)  ...  \\\n",
       "year                                             ...   \n",
       "2011                                   0.142189  ...   \n",
       "2014                                   0.319689  ...   \n",
       "2017                                   0.346667  ...   \n",
       "\n",
       "      Mobile money account, in labor force (% age 15+)   \\\n",
       "year                                                      \n",
       "2011                                                NaN   \n",
       "2014                                           0.248332   \n",
       "2017                                           0.338675   \n",
       "\n",
       "      Mobile money account, out of labor force (% age 15+)   \\\n",
       "year                                                          \n",
       "2011                                                NaN       \n",
       "2014                                           0.125492       \n",
       "2017                                           0.128968       \n",
       "\n",
       "      Mobile money account, female (% age 15+)   \\\n",
       "year                                              \n",
       "2011                                        NaN   \n",
       "2014                                   0.194573   \n",
       "2017                                   0.205061   \n",
       "\n",
       "      Mobile money account, young adults  (% age 15-24)   \\\n",
       "year                                                       \n",
       "2011                                                NaN    \n",
       "2014                                           0.227416    \n",
       "2017                                           0.275184    \n",
       "\n",
       "      Mobile money account, older adults (% age 25+)   \\\n",
       "year                                                    \n",
       "2011                                              NaN   \n",
       "2014                                         0.199192   \n",
       "2017                                         0.230537   \n",
       "\n",
       "      Mobile money account, primary education or less (% age 15+)   \\\n",
       "year                                                                 \n",
       "2011                                                NaN              \n",
       "2014                                           0.045315              \n",
       "2017                                           0.093519              \n",
       "\n",
       "      Mobile money account, secondary education or less (% age 15+)   \\\n",
       "year                                                                   \n",
       "2011                                                NaN                \n",
       "2014                                           0.286034                \n",
       "2017                                           0.359300                \n",
       "\n",
       "      Mobile money account, income, poorest 40% (% age 15+)   \\\n",
       "year                                                           \n",
       "2011                                                NaN        \n",
       "2014                                           0.072423        \n",
       "2017                                           0.124832        \n",
       "\n",
       "      Mobile money account, income, richest 60%  (% age 15+)   \\\n",
       "year                                                            \n",
       "2011                                                NaN         \n",
       "2014                                           0.296708         \n",
       "2017                                           0.322697         \n",
       "\n",
       "      Mobile money account, rural  (% age 15+)   \n",
       "year                                             \n",
       "2011                                        NaN  \n",
       "2014                                   0.213353  \n",
       "2017                                   0.221527  \n",
       "\n",
       "[3 rows x 776 columns]"
      ]
     },
     "execution_count": 97,
     "metadata": {},
     "output_type": "execute_result"
    }
   ],
   "source": [
    "df.head()"
   ]
  },
  {
   "cell_type": "markdown",
   "metadata": {},
   "source": [
    "The year 2011 has null values for all mobile money transactions, this migh be the mobile money was not yet introduced in Botswana, or there was no data available? confirm??"
   ]
  },
  {
   "cell_type": "code",
   "execution_count": 98,
   "metadata": {},
   "outputs": [],
   "source": [
    "#fill the missing values with 0 to indicate absence\n",
    "df.fillna(0, inplace=True)"
   ]
  },
  {
   "cell_type": "code",
   "execution_count": 99,
   "metadata": {},
   "outputs": [],
   "source": [
    "#understanding the account holders trends\n",
    "df_accounts = df.filter(regex='Account')\n"
   ]
  },
  {
   "cell_type": "code",
   "execution_count": 100,
   "metadata": {},
   "outputs": [],
   "source": [
    "#exclude males and females\n",
    "df_acc = df_accounts.loc[:,~df_accounts.columns.str.contains('female')]\n",
    "df_acc = df_acc.loc[:,~df_acc.columns.str.contains('male')]"
   ]
  },
  {
   "cell_type": "code",
   "execution_count": 101,
   "metadata": {},
   "outputs": [
    {
     "data": {
      "text/html": [
       "<div>\n",
       "<style scoped>\n",
       "    .dataframe tbody tr th:only-of-type {\n",
       "        vertical-align: middle;\n",
       "    }\n",
       "\n",
       "    .dataframe tbody tr th {\n",
       "        vertical-align: top;\n",
       "    }\n",
       "\n",
       "    .dataframe thead th {\n",
       "        text-align: right;\n",
       "    }\n",
       "</style>\n",
       "<table border=\"1\" class=\"dataframe\">\n",
       "  <thead>\n",
       "    <tr style=\"text-align: right;\">\n",
       "      <th></th>\n",
       "      <th>Account (% age 15+)</th>\n",
       "      <th>Account, in labor force (% age 15+)</th>\n",
       "      <th>Account, out of labor force (% age 15+)</th>\n",
       "      <th>Account, young adults (% ages 15-24)</th>\n",
       "      <th>Account, older adults (% ages 25+)</th>\n",
       "      <th>Account, primary education or less (% ages 15+)</th>\n",
       "      <th>Account, secondary education or more (% ages 15+)</th>\n",
       "      <th>Account, income, poorest 40% (% ages 15+)</th>\n",
       "      <th>Account, income, richest 60% (% ages 15+)</th>\n",
       "      <th>Account, rural (% age 15+)</th>\n",
       "    </tr>\n",
       "    <tr>\n",
       "      <th>year</th>\n",
       "      <th></th>\n",
       "      <th></th>\n",
       "      <th></th>\n",
       "      <th></th>\n",
       "      <th></th>\n",
       "      <th></th>\n",
       "      <th></th>\n",
       "      <th></th>\n",
       "      <th></th>\n",
       "      <th></th>\n",
       "    </tr>\n",
       "  </thead>\n",
       "  <tbody>\n",
       "    <tr>\n",
       "      <th>2011</th>\n",
       "      <td>0.302600</td>\n",
       "      <td>0.406803</td>\n",
       "      <td>0.165013</td>\n",
       "      <td>0.203047</td>\n",
       "      <td>0.352055</td>\n",
       "      <td>0.184952</td>\n",
       "      <td>0.391095</td>\n",
       "      <td>0.142189</td>\n",
       "      <td>0.409162</td>\n",
       "      <td>0.217981</td>\n",
       "    </tr>\n",
       "    <tr>\n",
       "      <th>2014</th>\n",
       "      <td>0.519646</td>\n",
       "      <td>0.588054</td>\n",
       "      <td>0.382174</td>\n",
       "      <td>0.477309</td>\n",
       "      <td>0.539437</td>\n",
       "      <td>0.314991</td>\n",
       "      <td>0.617250</td>\n",
       "      <td>0.319689</td>\n",
       "      <td>0.651665</td>\n",
       "      <td>0.520331</td>\n",
       "    </tr>\n",
       "    <tr>\n",
       "      <th>2017</th>\n",
       "      <td>0.510325</td>\n",
       "      <td>0.630660</td>\n",
       "      <td>0.364723</td>\n",
       "      <td>0.469702</td>\n",
       "      <td>0.527081</td>\n",
       "      <td>0.389953</td>\n",
       "      <td>0.598837</td>\n",
       "      <td>0.346667</td>\n",
       "      <td>0.618898</td>\n",
       "      <td>0.477899</td>\n",
       "    </tr>\n",
       "  </tbody>\n",
       "</table>\n",
       "</div>"
      ],
      "text/plain": [
       "      Account (% age 15+)  Account, in labor force (% age 15+)   \\\n",
       "year                                                              \n",
       "2011             0.302600                              0.406803   \n",
       "2014             0.519646                              0.588054   \n",
       "2017             0.510325                              0.630660   \n",
       "\n",
       "      Account, out of labor force (% age 15+)   \\\n",
       "year                                             \n",
       "2011                                  0.165013   \n",
       "2014                                  0.382174   \n",
       "2017                                  0.364723   \n",
       "\n",
       "      Account, young adults (% ages 15-24)  \\\n",
       "year                                         \n",
       "2011                              0.203047   \n",
       "2014                              0.477309   \n",
       "2017                              0.469702   \n",
       "\n",
       "      Account, older adults (% ages 25+)  \\\n",
       "year                                       \n",
       "2011                            0.352055   \n",
       "2014                            0.539437   \n",
       "2017                            0.527081   \n",
       "\n",
       "      Account, primary education or less (% ages 15+)   \\\n",
       "year                                                     \n",
       "2011                                          0.184952   \n",
       "2014                                          0.314991   \n",
       "2017                                          0.389953   \n",
       "\n",
       "      Account, secondary education or more (% ages 15+)   \\\n",
       "year                                                       \n",
       "2011                                           0.391095    \n",
       "2014                                           0.617250    \n",
       "2017                                           0.598837    \n",
       "\n",
       "      Account, income, poorest 40% (% ages 15+)  \\\n",
       "year                                              \n",
       "2011                                   0.142189   \n",
       "2014                                   0.319689   \n",
       "2017                                   0.346667   \n",
       "\n",
       "      Account, income, richest 60% (% ages 15+)   Account, rural (% age 15+)   \n",
       "year                                                                           \n",
       "2011                                    0.409162                     0.217981  \n",
       "2014                                    0.651665                     0.520331  \n",
       "2017                                    0.618898                     0.477899  "
      ]
     },
     "execution_count": 101,
     "metadata": {},
     "output_type": "execute_result"
    }
   ],
   "source": [
    "df_acc"
   ]
  },
  {
   "cell_type": "code",
   "execution_count": 102,
   "metadata": {},
   "outputs": [
    {
     "data": {
      "application/vnd.plotly.v1+json": {
       "config": {
        "plotlyServerURL": "https://plot.ly"
       },
       "data": [
        {
         "hovertemplate": "variable=Account (% age 15+)<br>year=%{x}<br>value=%{y}<extra></extra>",
         "legendgroup": "Account (% age 15+)",
         "line": {
          "color": "#636efa",
          "dash": "solid"
         },
         "marker": {
          "symbol": "circle"
         },
         "mode": "lines",
         "name": "Account (% age 15+)",
         "orientation": "v",
         "showlegend": true,
         "type": "scatter",
         "x": [
          2011,
          2014,
          2017
         ],
         "xaxis": "x",
         "y": [
          0.3026001453399658,
          0.5196456909179688,
          0.5103245377540588
         ],
         "yaxis": "y"
        },
        {
         "hovertemplate": "variable=Account, in labor force (% age 15+) <br>year=%{x}<br>value=%{y}<extra></extra>",
         "legendgroup": "Account, in labor force (% age 15+) ",
         "line": {
          "color": "#EF553B",
          "dash": "solid"
         },
         "marker": {
          "symbol": "circle"
         },
         "mode": "lines",
         "name": "Account, in labor force (% age 15+) ",
         "orientation": "v",
         "showlegend": true,
         "type": "scatter",
         "x": [
          2011,
          2014,
          2017
         ],
         "xaxis": "x",
         "y": [
          0.4068032503128052,
          0.5880542993545532,
          0.6306602358818054
         ],
         "yaxis": "y"
        },
        {
         "hovertemplate": "variable=Account, out of labor force (% age 15+) <br>year=%{x}<br>value=%{y}<extra></extra>",
         "legendgroup": "Account, out of labor force (% age 15+) ",
         "line": {
          "color": "#00cc96",
          "dash": "solid"
         },
         "marker": {
          "symbol": "circle"
         },
         "mode": "lines",
         "name": "Account, out of labor force (% age 15+) ",
         "orientation": "v",
         "showlegend": true,
         "type": "scatter",
         "x": [
          2011,
          2014,
          2017
         ],
         "xaxis": "x",
         "y": [
          0.1650134176015854,
          0.382173627614975,
          0.3647231161594391
         ],
         "yaxis": "y"
        },
        {
         "hovertemplate": "variable=Account, young adults (% ages 15-24)<br>year=%{x}<br>value=%{y}<extra></extra>",
         "legendgroup": "Account, young adults (% ages 15-24)",
         "line": {
          "color": "#ab63fa",
          "dash": "solid"
         },
         "marker": {
          "symbol": "circle"
         },
         "mode": "lines",
         "name": "Account, young adults (% ages 15-24)",
         "orientation": "v",
         "showlegend": true,
         "type": "scatter",
         "x": [
          2011,
          2014,
          2017
         ],
         "xaxis": "x",
         "y": [
          0.20304742455482483,
          0.4773092269897461,
          0.46970218420028687
         ],
         "yaxis": "y"
        },
        {
         "hovertemplate": "variable=Account, older adults (% ages 25+)<br>year=%{x}<br>value=%{y}<extra></extra>",
         "legendgroup": "Account, older adults (% ages 25+)",
         "line": {
          "color": "#FFA15A",
          "dash": "solid"
         },
         "marker": {
          "symbol": "circle"
         },
         "mode": "lines",
         "name": "Account, older adults (% ages 25+)",
         "orientation": "v",
         "showlegend": true,
         "type": "scatter",
         "x": [
          2011,
          2014,
          2017
         ],
         "xaxis": "x",
         "y": [
          0.35205498337745667,
          0.5394365787506104,
          0.527080774307251
         ],
         "yaxis": "y"
        },
        {
         "hovertemplate": "variable=Account, primary education or less (% ages 15+) <br>year=%{x}<br>value=%{y}<extra></extra>",
         "legendgroup": "Account, primary education or less (% ages 15+) ",
         "line": {
          "color": "#19d3f3",
          "dash": "solid"
         },
         "marker": {
          "symbol": "circle"
         },
         "mode": "lines",
         "name": "Account, primary education or less (% ages 15+) ",
         "orientation": "v",
         "showlegend": true,
         "type": "scatter",
         "x": [
          2011,
          2014,
          2017
         ],
         "xaxis": "x",
         "y": [
          0.18495208024978638,
          0.3149905502796173,
          0.3899533152580261
         ],
         "yaxis": "y"
        },
        {
         "hovertemplate": "variable=Account, secondary education or more (% ages 15+) <br>year=%{x}<br>value=%{y}<extra></extra>",
         "legendgroup": "Account, secondary education or more (% ages 15+) ",
         "line": {
          "color": "#FF6692",
          "dash": "solid"
         },
         "marker": {
          "symbol": "circle"
         },
         "mode": "lines",
         "name": "Account, secondary education or more (% ages 15+) ",
         "orientation": "v",
         "showlegend": true,
         "type": "scatter",
         "x": [
          2011,
          2014,
          2017
         ],
         "xaxis": "x",
         "y": [
          0.3910948932170868,
          0.6172502636909485,
          0.5988373160362244
         ],
         "yaxis": "y"
        },
        {
         "hovertemplate": "variable=Account, income, poorest 40% (% ages 15+)<br>year=%{x}<br>value=%{y}<extra></extra>",
         "legendgroup": "Account, income, poorest 40% (% ages 15+)",
         "line": {
          "color": "#B6E880",
          "dash": "solid"
         },
         "marker": {
          "symbol": "circle"
         },
         "mode": "lines",
         "name": "Account, income, poorest 40% (% ages 15+)",
         "orientation": "v",
         "showlegend": true,
         "type": "scatter",
         "x": [
          2011,
          2014,
          2017
         ],
         "xaxis": "x",
         "y": [
          0.1421893686056137,
          0.31968873739242554,
          0.3466673195362091
         ],
         "yaxis": "y"
        },
        {
         "hovertemplate": "variable=Account, income, richest 60% (% ages 15+) <br>year=%{x}<br>value=%{y}<extra></extra>",
         "legendgroup": "Account, income, richest 60% (% ages 15+) ",
         "line": {
          "color": "#FF97FF",
          "dash": "solid"
         },
         "marker": {
          "symbol": "circle"
         },
         "mode": "lines",
         "name": "Account, income, richest 60% (% ages 15+) ",
         "orientation": "v",
         "showlegend": true,
         "type": "scatter",
         "x": [
          2011,
          2014,
          2017
         ],
         "xaxis": "x",
         "y": [
          0.40916216373443604,
          0.651664674282074,
          0.6188977360725403
         ],
         "yaxis": "y"
        },
        {
         "hovertemplate": "variable=Account, rural (% age 15+) <br>year=%{x}<br>value=%{y}<extra></extra>",
         "legendgroup": "Account, rural (% age 15+) ",
         "line": {
          "color": "#FECB52",
          "dash": "solid"
         },
         "marker": {
          "symbol": "circle"
         },
         "mode": "lines",
         "name": "Account, rural (% age 15+) ",
         "orientation": "v",
         "showlegend": true,
         "type": "scatter",
         "x": [
          2011,
          2014,
          2017
         ],
         "xaxis": "x",
         "y": [
          0.21798093616962433,
          0.520331084728241,
          0.47789856791496277
         ],
         "yaxis": "y"
        }
       ],
       "layout": {
        "legend": {
         "title": {
          "text": "variable"
         },
         "tracegroupgap": 0
        },
        "margin": {
         "t": 60
        },
        "template": {
         "data": {
          "bar": [
           {
            "error_x": {
             "color": "#2a3f5f"
            },
            "error_y": {
             "color": "#2a3f5f"
            },
            "marker": {
             "line": {
              "color": "#E5ECF6",
              "width": 0.5
             },
             "pattern": {
              "fillmode": "overlay",
              "size": 10,
              "solidity": 0.2
             }
            },
            "type": "bar"
           }
          ],
          "barpolar": [
           {
            "marker": {
             "line": {
              "color": "#E5ECF6",
              "width": 0.5
             },
             "pattern": {
              "fillmode": "overlay",
              "size": 10,
              "solidity": 0.2
             }
            },
            "type": "barpolar"
           }
          ],
          "carpet": [
           {
            "aaxis": {
             "endlinecolor": "#2a3f5f",
             "gridcolor": "white",
             "linecolor": "white",
             "minorgridcolor": "white",
             "startlinecolor": "#2a3f5f"
            },
            "baxis": {
             "endlinecolor": "#2a3f5f",
             "gridcolor": "white",
             "linecolor": "white",
             "minorgridcolor": "white",
             "startlinecolor": "#2a3f5f"
            },
            "type": "carpet"
           }
          ],
          "choropleth": [
           {
            "colorbar": {
             "outlinewidth": 0,
             "ticks": ""
            },
            "type": "choropleth"
           }
          ],
          "contour": [
           {
            "colorbar": {
             "outlinewidth": 0,
             "ticks": ""
            },
            "colorscale": [
             [
              0,
              "#0d0887"
             ],
             [
              0.1111111111111111,
              "#46039f"
             ],
             [
              0.2222222222222222,
              "#7201a8"
             ],
             [
              0.3333333333333333,
              "#9c179e"
             ],
             [
              0.4444444444444444,
              "#bd3786"
             ],
             [
              0.5555555555555556,
              "#d8576b"
             ],
             [
              0.6666666666666666,
              "#ed7953"
             ],
             [
              0.7777777777777778,
              "#fb9f3a"
             ],
             [
              0.8888888888888888,
              "#fdca26"
             ],
             [
              1,
              "#f0f921"
             ]
            ],
            "type": "contour"
           }
          ],
          "contourcarpet": [
           {
            "colorbar": {
             "outlinewidth": 0,
             "ticks": ""
            },
            "type": "contourcarpet"
           }
          ],
          "heatmap": [
           {
            "colorbar": {
             "outlinewidth": 0,
             "ticks": ""
            },
            "colorscale": [
             [
              0,
              "#0d0887"
             ],
             [
              0.1111111111111111,
              "#46039f"
             ],
             [
              0.2222222222222222,
              "#7201a8"
             ],
             [
              0.3333333333333333,
              "#9c179e"
             ],
             [
              0.4444444444444444,
              "#bd3786"
             ],
             [
              0.5555555555555556,
              "#d8576b"
             ],
             [
              0.6666666666666666,
              "#ed7953"
             ],
             [
              0.7777777777777778,
              "#fb9f3a"
             ],
             [
              0.8888888888888888,
              "#fdca26"
             ],
             [
              1,
              "#f0f921"
             ]
            ],
            "type": "heatmap"
           }
          ],
          "heatmapgl": [
           {
            "colorbar": {
             "outlinewidth": 0,
             "ticks": ""
            },
            "colorscale": [
             [
              0,
              "#0d0887"
             ],
             [
              0.1111111111111111,
              "#46039f"
             ],
             [
              0.2222222222222222,
              "#7201a8"
             ],
             [
              0.3333333333333333,
              "#9c179e"
             ],
             [
              0.4444444444444444,
              "#bd3786"
             ],
             [
              0.5555555555555556,
              "#d8576b"
             ],
             [
              0.6666666666666666,
              "#ed7953"
             ],
             [
              0.7777777777777778,
              "#fb9f3a"
             ],
             [
              0.8888888888888888,
              "#fdca26"
             ],
             [
              1,
              "#f0f921"
             ]
            ],
            "type": "heatmapgl"
           }
          ],
          "histogram": [
           {
            "marker": {
             "pattern": {
              "fillmode": "overlay",
              "size": 10,
              "solidity": 0.2
             }
            },
            "type": "histogram"
           }
          ],
          "histogram2d": [
           {
            "colorbar": {
             "outlinewidth": 0,
             "ticks": ""
            },
            "colorscale": [
             [
              0,
              "#0d0887"
             ],
             [
              0.1111111111111111,
              "#46039f"
             ],
             [
              0.2222222222222222,
              "#7201a8"
             ],
             [
              0.3333333333333333,
              "#9c179e"
             ],
             [
              0.4444444444444444,
              "#bd3786"
             ],
             [
              0.5555555555555556,
              "#d8576b"
             ],
             [
              0.6666666666666666,
              "#ed7953"
             ],
             [
              0.7777777777777778,
              "#fb9f3a"
             ],
             [
              0.8888888888888888,
              "#fdca26"
             ],
             [
              1,
              "#f0f921"
             ]
            ],
            "type": "histogram2d"
           }
          ],
          "histogram2dcontour": [
           {
            "colorbar": {
             "outlinewidth": 0,
             "ticks": ""
            },
            "colorscale": [
             [
              0,
              "#0d0887"
             ],
             [
              0.1111111111111111,
              "#46039f"
             ],
             [
              0.2222222222222222,
              "#7201a8"
             ],
             [
              0.3333333333333333,
              "#9c179e"
             ],
             [
              0.4444444444444444,
              "#bd3786"
             ],
             [
              0.5555555555555556,
              "#d8576b"
             ],
             [
              0.6666666666666666,
              "#ed7953"
             ],
             [
              0.7777777777777778,
              "#fb9f3a"
             ],
             [
              0.8888888888888888,
              "#fdca26"
             ],
             [
              1,
              "#f0f921"
             ]
            ],
            "type": "histogram2dcontour"
           }
          ],
          "mesh3d": [
           {
            "colorbar": {
             "outlinewidth": 0,
             "ticks": ""
            },
            "type": "mesh3d"
           }
          ],
          "parcoords": [
           {
            "line": {
             "colorbar": {
              "outlinewidth": 0,
              "ticks": ""
             }
            },
            "type": "parcoords"
           }
          ],
          "pie": [
           {
            "automargin": true,
            "type": "pie"
           }
          ],
          "scatter": [
           {
            "marker": {
             "colorbar": {
              "outlinewidth": 0,
              "ticks": ""
             }
            },
            "type": "scatter"
           }
          ],
          "scatter3d": [
           {
            "line": {
             "colorbar": {
              "outlinewidth": 0,
              "ticks": ""
             }
            },
            "marker": {
             "colorbar": {
              "outlinewidth": 0,
              "ticks": ""
             }
            },
            "type": "scatter3d"
           }
          ],
          "scattercarpet": [
           {
            "marker": {
             "colorbar": {
              "outlinewidth": 0,
              "ticks": ""
             }
            },
            "type": "scattercarpet"
           }
          ],
          "scattergeo": [
           {
            "marker": {
             "colorbar": {
              "outlinewidth": 0,
              "ticks": ""
             }
            },
            "type": "scattergeo"
           }
          ],
          "scattergl": [
           {
            "marker": {
             "colorbar": {
              "outlinewidth": 0,
              "ticks": ""
             }
            },
            "type": "scattergl"
           }
          ],
          "scattermapbox": [
           {
            "marker": {
             "colorbar": {
              "outlinewidth": 0,
              "ticks": ""
             }
            },
            "type": "scattermapbox"
           }
          ],
          "scatterpolar": [
           {
            "marker": {
             "colorbar": {
              "outlinewidth": 0,
              "ticks": ""
             }
            },
            "type": "scatterpolar"
           }
          ],
          "scatterpolargl": [
           {
            "marker": {
             "colorbar": {
              "outlinewidth": 0,
              "ticks": ""
             }
            },
            "type": "scatterpolargl"
           }
          ],
          "scatterternary": [
           {
            "marker": {
             "colorbar": {
              "outlinewidth": 0,
              "ticks": ""
             }
            },
            "type": "scatterternary"
           }
          ],
          "surface": [
           {
            "colorbar": {
             "outlinewidth": 0,
             "ticks": ""
            },
            "colorscale": [
             [
              0,
              "#0d0887"
             ],
             [
              0.1111111111111111,
              "#46039f"
             ],
             [
              0.2222222222222222,
              "#7201a8"
             ],
             [
              0.3333333333333333,
              "#9c179e"
             ],
             [
              0.4444444444444444,
              "#bd3786"
             ],
             [
              0.5555555555555556,
              "#d8576b"
             ],
             [
              0.6666666666666666,
              "#ed7953"
             ],
             [
              0.7777777777777778,
              "#fb9f3a"
             ],
             [
              0.8888888888888888,
              "#fdca26"
             ],
             [
              1,
              "#f0f921"
             ]
            ],
            "type": "surface"
           }
          ],
          "table": [
           {
            "cells": {
             "fill": {
              "color": "#EBF0F8"
             },
             "line": {
              "color": "white"
             }
            },
            "header": {
             "fill": {
              "color": "#C8D4E3"
             },
             "line": {
              "color": "white"
             }
            },
            "type": "table"
           }
          ]
         },
         "layout": {
          "annotationdefaults": {
           "arrowcolor": "#2a3f5f",
           "arrowhead": 0,
           "arrowwidth": 1
          },
          "autotypenumbers": "strict",
          "coloraxis": {
           "colorbar": {
            "outlinewidth": 0,
            "ticks": ""
           }
          },
          "colorscale": {
           "diverging": [
            [
             0,
             "#8e0152"
            ],
            [
             0.1,
             "#c51b7d"
            ],
            [
             0.2,
             "#de77ae"
            ],
            [
             0.3,
             "#f1b6da"
            ],
            [
             0.4,
             "#fde0ef"
            ],
            [
             0.5,
             "#f7f7f7"
            ],
            [
             0.6,
             "#e6f5d0"
            ],
            [
             0.7,
             "#b8e186"
            ],
            [
             0.8,
             "#7fbc41"
            ],
            [
             0.9,
             "#4d9221"
            ],
            [
             1,
             "#276419"
            ]
           ],
           "sequential": [
            [
             0,
             "#0d0887"
            ],
            [
             0.1111111111111111,
             "#46039f"
            ],
            [
             0.2222222222222222,
             "#7201a8"
            ],
            [
             0.3333333333333333,
             "#9c179e"
            ],
            [
             0.4444444444444444,
             "#bd3786"
            ],
            [
             0.5555555555555556,
             "#d8576b"
            ],
            [
             0.6666666666666666,
             "#ed7953"
            ],
            [
             0.7777777777777778,
             "#fb9f3a"
            ],
            [
             0.8888888888888888,
             "#fdca26"
            ],
            [
             1,
             "#f0f921"
            ]
           ],
           "sequentialminus": [
            [
             0,
             "#0d0887"
            ],
            [
             0.1111111111111111,
             "#46039f"
            ],
            [
             0.2222222222222222,
             "#7201a8"
            ],
            [
             0.3333333333333333,
             "#9c179e"
            ],
            [
             0.4444444444444444,
             "#bd3786"
            ],
            [
             0.5555555555555556,
             "#d8576b"
            ],
            [
             0.6666666666666666,
             "#ed7953"
            ],
            [
             0.7777777777777778,
             "#fb9f3a"
            ],
            [
             0.8888888888888888,
             "#fdca26"
            ],
            [
             1,
             "#f0f921"
            ]
           ]
          },
          "colorway": [
           "#636efa",
           "#EF553B",
           "#00cc96",
           "#ab63fa",
           "#FFA15A",
           "#19d3f3",
           "#FF6692",
           "#B6E880",
           "#FF97FF",
           "#FECB52"
          ],
          "font": {
           "color": "#2a3f5f"
          },
          "geo": {
           "bgcolor": "white",
           "lakecolor": "white",
           "landcolor": "#E5ECF6",
           "showlakes": true,
           "showland": true,
           "subunitcolor": "white"
          },
          "hoverlabel": {
           "align": "left"
          },
          "hovermode": "closest",
          "mapbox": {
           "style": "light"
          },
          "paper_bgcolor": "white",
          "plot_bgcolor": "#E5ECF6",
          "polar": {
           "angularaxis": {
            "gridcolor": "white",
            "linecolor": "white",
            "ticks": ""
           },
           "bgcolor": "#E5ECF6",
           "radialaxis": {
            "gridcolor": "white",
            "linecolor": "white",
            "ticks": ""
           }
          },
          "scene": {
           "xaxis": {
            "backgroundcolor": "#E5ECF6",
            "gridcolor": "white",
            "gridwidth": 2,
            "linecolor": "white",
            "showbackground": true,
            "ticks": "",
            "zerolinecolor": "white"
           },
           "yaxis": {
            "backgroundcolor": "#E5ECF6",
            "gridcolor": "white",
            "gridwidth": 2,
            "linecolor": "white",
            "showbackground": true,
            "ticks": "",
            "zerolinecolor": "white"
           },
           "zaxis": {
            "backgroundcolor": "#E5ECF6",
            "gridcolor": "white",
            "gridwidth": 2,
            "linecolor": "white",
            "showbackground": true,
            "ticks": "",
            "zerolinecolor": "white"
           }
          },
          "shapedefaults": {
           "line": {
            "color": "#2a3f5f"
           }
          },
          "ternary": {
           "aaxis": {
            "gridcolor": "white",
            "linecolor": "white",
            "ticks": ""
           },
           "baxis": {
            "gridcolor": "white",
            "linecolor": "white",
            "ticks": ""
           },
           "bgcolor": "#E5ECF6",
           "caxis": {
            "gridcolor": "white",
            "linecolor": "white",
            "ticks": ""
           }
          },
          "title": {
           "x": 0.05
          },
          "xaxis": {
           "automargin": true,
           "gridcolor": "white",
           "linecolor": "white",
           "ticks": "",
           "title": {
            "standoff": 15
           },
           "zerolinecolor": "white",
           "zerolinewidth": 2
          },
          "yaxis": {
           "automargin": true,
           "gridcolor": "white",
           "linecolor": "white",
           "ticks": "",
           "title": {
            "standoff": 15
           },
           "zerolinecolor": "white",
           "zerolinewidth": 2
          }
         }
        },
        "xaxis": {
         "anchor": "y",
         "domain": [
          0,
          1
         ],
         "title": {
          "text": "year"
         }
        },
        "yaxis": {
         "anchor": "x",
         "domain": [
          0,
          1
         ],
         "title": {
          "text": "value"
         }
        }
       }
      }
     },
     "metadata": {},
     "output_type": "display_data"
    }
   ],
   "source": [
    "import plotly.express as px\n",
    "fig = px.line(df_acc)\n",
    "fig.show()"
   ]
  },
  {
   "cell_type": "markdown",
   "metadata": {},
   "source": [
    "There has been an increase in account holders accross the years, from 2011 through to 2017."
   ]
  },
  {
   "cell_type": "code",
   "execution_count": null,
   "metadata": {},
   "outputs": [],
   "source": []
  }
 ],
 "metadata": {
  "interpreter": {
   "hash": "d421f7e0be82773f79ff071f6681b3a26ad583fa2b319fe248c43945bdde9151"
  },
  "kernelspec": {
   "display_name": "Python 3.8.8 ('base')",
   "language": "python",
   "name": "python3"
  },
  "language_info": {
   "codemirror_mode": {
    "name": "ipython",
    "version": 3
   },
   "file_extension": ".py",
   "mimetype": "text/x-python",
   "name": "python",
   "nbconvert_exporter": "python",
   "pygments_lexer": "ipython3",
   "version": "3.8.8"
  },
  "orig_nbformat": 4
 },
 "nbformat": 4,
 "nbformat_minor": 2
}
